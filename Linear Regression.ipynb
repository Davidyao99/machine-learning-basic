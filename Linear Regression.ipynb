{
 "cells": [
  {
   "cell_type": "code",
   "execution_count": 632,
   "metadata": {},
   "outputs": [],
   "source": [
    "import numpy as np\n",
    "import matplotlib.pyplot as plt\n",
    "import pandas as pd\n",
    "import time\n",
    "from sklearn.linear_model import LinearRegression\n",
    "from sklearn.metrics import max_error, mean_absolute_error"
   ]
  },
  {
   "cell_type": "code",
   "execution_count": 633,
   "metadata": {},
   "outputs": [],
   "source": [
    "def calculate_cost(theta, X, y): # theta is dimensions n x 1, X is dimensions m x n, y is dimensions m x 1\n",
    "    m = X.shape[0]\n",
    "    cost = (1/(2*m))*(np.square((np.matmul(X,theta.transpose()) - y))).sum() # vectorized implementation of mean squared error as cost function\n",
    "    return cost"
   ]
  },
  {
   "cell_type": "code",
   "execution_count": 634,
   "metadata": {},
   "outputs": [],
   "source": [
    "def calculate_grad(theta, X, y): # theta is dimensions n x 1, X is dimensions m x n, y is dimensions m x 1\n",
    "    m = X.shape[0]\n",
    "    grad = np.matmul(np.matmul(X,theta.transpose()) - y,X) # vectorized implementation of gradient\n",
    "    return grad"
   ]
  },
  {
   "cell_type": "code",
   "execution_count": 635,
   "metadata": {},
   "outputs": [],
   "source": [
    "def linear_reg(X_train, y_train, alpha, iterations): # X is dimensions m x n, y is dimensions m x 1, alpha is learning rate\n",
    "    theta = np.random.rand(X_train.shape[1]) # randomly initiates weights\n",
    "    m = X_train.shape[0]\n",
    "    costs_train = []\n",
    "    for i in range(iterations):\n",
    "        costs_train.append(calculate_cost(theta, X_train, y_train))\n",
    "        theta -= alpha * (1/m)*calculate_grad(theta, X_train ,y_train)\n",
    "    x_graph = np.arange(0,iterations,1);    \n",
    "    plt.plot(x_graph,costs_train)\n",
    "    return theta    "
   ]
  },
  {
   "cell_type": "code",
   "execution_count": 636,
   "metadata": {},
   "outputs": [],
   "source": [
    "def predict(X,theta):\n",
    "    return np.matmul(X,theta.transpose())"
   ]
  },
  {
   "cell_type": "code",
   "execution_count": 637,
   "metadata": {},
   "outputs": [],
   "source": [
    "def plot_cost(X, y, theta):\n",
    "    pred = predict(X,theta)\n",
    "    plt.scatter(X[:,1],y)\n",
    "    plt.plot(X[:,1],pred)"
   ]
  },
  {
   "cell_type": "code",
   "execution_count": 638,
   "metadata": {},
   "outputs": [],
   "source": [
    "def normalize(X, mean, std):\n",
    "    return (X-mean) / std"
   ]
  },
  {
   "cell_type": "markdown",
   "metadata": {},
   "source": [
    "<h2> Applying linear regression model on data from kaggle </h2>"
   ]
  },
  {
   "cell_type": "code",
   "execution_count": 639,
   "metadata": {},
   "outputs": [
    {
     "data": {
      "text/html": [
       "<div>\n",
       "<style scoped>\n",
       "    .dataframe tbody tr th:only-of-type {\n",
       "        vertical-align: middle;\n",
       "    }\n",
       "\n",
       "    .dataframe tbody tr th {\n",
       "        vertical-align: top;\n",
       "    }\n",
       "\n",
       "    .dataframe thead th {\n",
       "        text-align: right;\n",
       "    }\n",
       "</style>\n",
       "<table border=\"1\" class=\"dataframe\">\n",
       "  <thead>\n",
       "    <tr style=\"text-align: right;\">\n",
       "      <th></th>\n",
       "      <th>Gender</th>\n",
       "      <th>Height</th>\n",
       "      <th>Weight</th>\n",
       "      <th>Index</th>\n",
       "    </tr>\n",
       "  </thead>\n",
       "  <tbody>\n",
       "    <tr>\n",
       "      <th>0</th>\n",
       "      <td>Male</td>\n",
       "      <td>174</td>\n",
       "      <td>96</td>\n",
       "      <td>4</td>\n",
       "    </tr>\n",
       "    <tr>\n",
       "      <th>1</th>\n",
       "      <td>Male</td>\n",
       "      <td>189</td>\n",
       "      <td>87</td>\n",
       "      <td>2</td>\n",
       "    </tr>\n",
       "    <tr>\n",
       "      <th>2</th>\n",
       "      <td>Female</td>\n",
       "      <td>185</td>\n",
       "      <td>110</td>\n",
       "      <td>4</td>\n",
       "    </tr>\n",
       "    <tr>\n",
       "      <th>3</th>\n",
       "      <td>Female</td>\n",
       "      <td>195</td>\n",
       "      <td>104</td>\n",
       "      <td>3</td>\n",
       "    </tr>\n",
       "    <tr>\n",
       "      <th>4</th>\n",
       "      <td>Male</td>\n",
       "      <td>149</td>\n",
       "      <td>61</td>\n",
       "      <td>3</td>\n",
       "    </tr>\n",
       "    <tr>\n",
       "      <th>...</th>\n",
       "      <td>...</td>\n",
       "      <td>...</td>\n",
       "      <td>...</td>\n",
       "      <td>...</td>\n",
       "    </tr>\n",
       "    <tr>\n",
       "      <th>495</th>\n",
       "      <td>Female</td>\n",
       "      <td>150</td>\n",
       "      <td>153</td>\n",
       "      <td>5</td>\n",
       "    </tr>\n",
       "    <tr>\n",
       "      <th>496</th>\n",
       "      <td>Female</td>\n",
       "      <td>184</td>\n",
       "      <td>121</td>\n",
       "      <td>4</td>\n",
       "    </tr>\n",
       "    <tr>\n",
       "      <th>497</th>\n",
       "      <td>Female</td>\n",
       "      <td>141</td>\n",
       "      <td>136</td>\n",
       "      <td>5</td>\n",
       "    </tr>\n",
       "    <tr>\n",
       "      <th>498</th>\n",
       "      <td>Male</td>\n",
       "      <td>150</td>\n",
       "      <td>95</td>\n",
       "      <td>5</td>\n",
       "    </tr>\n",
       "    <tr>\n",
       "      <th>499</th>\n",
       "      <td>Male</td>\n",
       "      <td>173</td>\n",
       "      <td>131</td>\n",
       "      <td>5</td>\n",
       "    </tr>\n",
       "  </tbody>\n",
       "</table>\n",
       "<p>500 rows × 4 columns</p>\n",
       "</div>"
      ],
      "text/plain": [
       "     Gender  Height  Weight  Index\n",
       "0      Male     174      96      4\n",
       "1      Male     189      87      2\n",
       "2    Female     185     110      4\n",
       "3    Female     195     104      3\n",
       "4      Male     149      61      3\n",
       "..      ...     ...     ...    ...\n",
       "495  Female     150     153      5\n",
       "496  Female     184     121      4\n",
       "497  Female     141     136      5\n",
       "498    Male     150      95      5\n",
       "499    Male     173     131      5\n",
       "\n",
       "[500 rows x 4 columns]"
      ]
     },
     "execution_count": 639,
     "metadata": {},
     "output_type": "execute_result"
    }
   ],
   "source": [
    "df = pd.read_csv(\"data/kaggle_height_weight_data.csv\")\n",
    "df"
   ]
  },
  {
   "cell_type": "code",
   "execution_count": 640,
   "metadata": {},
   "outputs": [
    {
     "data": {
      "text/plain": [
       "<matplotlib.axes._subplots.AxesSubplot at 0x858b810700>"
      ]
     },
     "execution_count": 640,
     "metadata": {},
     "output_type": "execute_result"
    },
    {
     "data": {
      "image/png": "[encoded data removed]",
      "text/plain": [
       "<Figure size 432x288 with 1 Axes>"
      ]
     },
     "metadata": {
      "needs_background": "light"
     },
     "output_type": "display_data"
    }
   ],
   "source": [
    "df_height_weight = df.loc[df[\"Index\"] == 2,['Height','Weight']] # get height and weight for normal bmi\n",
    "df_height_weight.plot.scatter(x=\"Height\", y=\"Weight\", alpha=0.5)"
   ]
  },
  {
   "cell_type": "code",
   "execution_count": 641,
   "metadata": {},
   "outputs": [],
   "source": [
    "height = df_height_weight['Height'].values\n",
    "weight = df_height_weight['Weight'].values"
   ]
  },
  {
   "cell_type": "code",
   "execution_count": 642,
   "metadata": {},
   "outputs": [],
   "source": [
    "X = df_height_weight['Height'].values\n",
    "normalized_X = normalize(X, X.mean(axis=0), X.std(axis=0))\n",
    "x_ones = np.ones(X.shape[0])\n",
    "normalized_X = np.stack((x_ones, normalized_X), 1)\n",
    "y = df_height_weight['Weight'].values"
   ]
  },
  {
   "cell_type": "code",
   "execution_count": 643,
   "metadata": {},
   "outputs": [
    {
     "data": {
      "image/png": "[encoded data removed]",
      "text/plain": [
       "<Figure size 432x288 with 1 Axes>"
      ]
     },
     "metadata": {
      "needs_background": "light"
     },
     "output_type": "display_data"
    }
   ],
   "source": [
    "theta = linear_reg(normalized_X, y, 0.1, 100)"
   ]
  },
  {
   "cell_type": "code",
   "execution_count": 644,
   "metadata": {},
   "outputs": [
    {
     "data": {
      "text/plain": [
       "[<matplotlib.lines.Line2D at 0x858b8dde20>]"
      ]
     },
     "execution_count": 644,
     "metadata": {},
     "output_type": "execute_result"
    },
    {
     "data": {
      "image/png": "[encoded data removed]",
      "text/plain": [
       "<Figure size 432x288 with 1 Axes>"
      ]
     },
     "metadata": {
      "needs_background": "light"
     },
     "output_type": "display_data"
    }
   ],
   "source": [
    "pred = predict(normalized_X,theta)\n",
    "plt.scatter(X,y)\n",
    "plt.plot(X,pred)"
   ]
  },
  {
   "cell_type": "code",
   "execution_count": 645,
   "metadata": {},
   "outputs": [
    {
     "name": "stdout",
     "output_type": "stream",
     "text": [
      "5.2820906659731826\n"
     ]
    }
   ],
   "source": [
    "print(mean_absolute_error(pred,y))"
   ]
  },
  {
   "cell_type": "code",
   "execution_count": 646,
   "metadata": {},
   "outputs": [
    {
     "name": "stdout",
     "output_type": "stream",
     "text": [
      "68.20053931988681\n"
     ]
    }
   ],
   "source": [
    "height = (173-X.mean(axis=0)) / X.std(axis=0)\n",
    "print(predict(np.array([1,height]),theta))"
   ]
  },
  {
   "cell_type": "code",
   "execution_count": 647,
   "metadata": {},
   "outputs": [
    {
     "data": {
      "text/html": [
       "<div>\n",
       "<style scoped>\n",
       "    .dataframe tbody tr th:only-of-type {\n",
       "        vertical-align: middle;\n",
       "    }\n",
       "\n",
       "    .dataframe tbody tr th {\n",
       "        vertical-align: top;\n",
       "    }\n",
       "\n",
       "    .dataframe thead th {\n",
       "        text-align: right;\n",
       "    }\n",
       "</style>\n",
       "<table border=\"1\" class=\"dataframe\">\n",
       "  <thead>\n",
       "    <tr style=\"text-align: right;\">\n",
       "      <th></th>\n",
       "      <th>No</th>\n",
       "      <th>X1 transaction date</th>\n",
       "      <th>X2 house age</th>\n",
       "      <th>X3 distance to the nearest MRT station</th>\n",
       "      <th>X4 number of convenience stores</th>\n",
       "      <th>X5 latitude</th>\n",
       "      <th>X6 longitude</th>\n",
       "      <th>Y house price of unit area</th>\n",
       "    </tr>\n",
       "  </thead>\n",
       "  <tbody>\n",
       "    <tr>\n",
       "      <th>0</th>\n",
       "      <td>221</td>\n",
       "      <td>2013.333</td>\n",
       "      <td>37.2</td>\n",
       "      <td>186.5101</td>\n",
       "      <td>9</td>\n",
       "      <td>24.97703</td>\n",
       "      <td>121.54265</td>\n",
       "      <td>78.3</td>\n",
       "    </tr>\n",
       "    <tr>\n",
       "      <th>1</th>\n",
       "      <td>236</td>\n",
       "      <td>2012.750</td>\n",
       "      <td>12.9</td>\n",
       "      <td>250.6310</td>\n",
       "      <td>7</td>\n",
       "      <td>24.96606</td>\n",
       "      <td>121.54297</td>\n",
       "      <td>39.3</td>\n",
       "    </tr>\n",
       "    <tr>\n",
       "      <th>2</th>\n",
       "      <td>360</td>\n",
       "      <td>2013.500</td>\n",
       "      <td>5.6</td>\n",
       "      <td>2408.9930</td>\n",
       "      <td>0</td>\n",
       "      <td>24.95505</td>\n",
       "      <td>121.55964</td>\n",
       "      <td>24.7</td>\n",
       "    </tr>\n",
       "    <tr>\n",
       "      <th>3</th>\n",
       "      <td>195</td>\n",
       "      <td>2013.500</td>\n",
       "      <td>15.2</td>\n",
       "      <td>3771.8950</td>\n",
       "      <td>0</td>\n",
       "      <td>24.93363</td>\n",
       "      <td>121.51158</td>\n",
       "      <td>29.3</td>\n",
       "    </tr>\n",
       "    <tr>\n",
       "      <th>4</th>\n",
       "      <td>41</td>\n",
       "      <td>2013.000</td>\n",
       "      <td>13.6</td>\n",
       "      <td>4082.0150</td>\n",
       "      <td>0</td>\n",
       "      <td>24.94155</td>\n",
       "      <td>121.50381</td>\n",
       "      <td>15.9</td>\n",
       "    </tr>\n",
       "    <tr>\n",
       "      <th>...</th>\n",
       "      <td>...</td>\n",
       "      <td>...</td>\n",
       "      <td>...</td>\n",
       "      <td>...</td>\n",
       "      <td>...</td>\n",
       "      <td>...</td>\n",
       "      <td>...</td>\n",
       "      <td>...</td>\n",
       "    </tr>\n",
       "    <tr>\n",
       "      <th>409</th>\n",
       "      <td>167</td>\n",
       "      <td>2013.417</td>\n",
       "      <td>0.0</td>\n",
       "      <td>292.9978</td>\n",
       "      <td>6</td>\n",
       "      <td>24.97744</td>\n",
       "      <td>121.54458</td>\n",
       "      <td>73.6</td>\n",
       "    </tr>\n",
       "    <tr>\n",
       "      <th>410</th>\n",
       "      <td>125</td>\n",
       "      <td>2012.917</td>\n",
       "      <td>9.9</td>\n",
       "      <td>279.1726</td>\n",
       "      <td>7</td>\n",
       "      <td>24.97528</td>\n",
       "      <td>121.54541</td>\n",
       "      <td>57.4</td>\n",
       "    </tr>\n",
       "    <tr>\n",
       "      <th>411</th>\n",
       "      <td>172</td>\n",
       "      <td>2013.083</td>\n",
       "      <td>3.6</td>\n",
       "      <td>383.8624</td>\n",
       "      <td>5</td>\n",
       "      <td>24.98085</td>\n",
       "      <td>121.54391</td>\n",
       "      <td>58.8</td>\n",
       "    </tr>\n",
       "    <tr>\n",
       "      <th>412</th>\n",
       "      <td>198</td>\n",
       "      <td>2013.250</td>\n",
       "      <td>34.4</td>\n",
       "      <td>126.7286</td>\n",
       "      <td>8</td>\n",
       "      <td>24.96881</td>\n",
       "      <td>121.54089</td>\n",
       "      <td>48.2</td>\n",
       "    </tr>\n",
       "    <tr>\n",
       "      <th>413</th>\n",
       "      <td>83</td>\n",
       "      <td>2013.083</td>\n",
       "      <td>13.2</td>\n",
       "      <td>150.9347</td>\n",
       "      <td>7</td>\n",
       "      <td>24.96725</td>\n",
       "      <td>121.54252</td>\n",
       "      <td>48.1</td>\n",
       "    </tr>\n",
       "  </tbody>\n",
       "</table>\n",
       "<p>414 rows × 8 columns</p>\n",
       "</div>"
      ],
      "text/plain": [
       "      No  X1 transaction date  X2 house age  \\\n",
       "0    221             2013.333          37.2   \n",
       "1    236             2012.750          12.9   \n",
       "2    360             2013.500           5.6   \n",
       "3    195             2013.500          15.2   \n",
       "4     41             2013.000          13.6   \n",
       "..   ...                  ...           ...   \n",
       "409  167             2013.417           0.0   \n",
       "410  125             2012.917           9.9   \n",
       "411  172             2013.083           3.6   \n",
       "412  198             2013.250          34.4   \n",
       "413   83             2013.083          13.2   \n",
       "\n",
       "     X3 distance to the nearest MRT station  X4 number of convenience stores  \\\n",
       "0                                  186.5101                                9   \n",
       "1                                  250.6310                                7   \n",
       "2                                 2408.9930                                0   \n",
       "3                                 3771.8950                                0   \n",
       "4                                 4082.0150                                0   \n",
       "..                                      ...                              ...   \n",
       "409                                292.9978                                6   \n",
       "410                                279.1726                                7   \n",
       "411                                383.8624                                5   \n",
       "412                                126.7286                                8   \n",
       "413                                150.9347                                7   \n",
       "\n",
       "     X5 latitude  X6 longitude  Y house price of unit area  \n",
       "0       24.97703     121.54265                        78.3  \n",
       "1       24.96606     121.54297                        39.3  \n",
       "2       24.95505     121.55964                        24.7  \n",
       "3       24.93363     121.51158                        29.3  \n",
       "4       24.94155     121.50381                        15.9  \n",
       "..           ...           ...                         ...  \n",
       "409     24.97744     121.54458                        73.6  \n",
       "410     24.97528     121.54541                        57.4  \n",
       "411     24.98085     121.54391                        58.8  \n",
       "412     24.96881     121.54089                        48.2  \n",
       "413     24.96725     121.54252                        48.1  \n",
       "\n",
       "[414 rows x 8 columns]"
      ]
     },
     "metadata": {},
     "output_type": "display_data"
    },
    {
     "data": {
      "text/plain": [
       "No                                        0\n",
       "X1 transaction date                       0\n",
       "X2 house age                              0\n",
       "X3 distance to the nearest MRT station    0\n",
       "X4 number of convenience stores           0\n",
       "X5 latitude                               0\n",
       "X6 longitude                              0\n",
       "Y house price of unit area                0\n",
       "dtype: int64"
      ]
     },
     "metadata": {},
     "output_type": "display_data"
    }
   ],
   "source": [
    "df = pd.read_csv(\"data/kaggle_real_estate_prices.csv\",index_col=None)\n",
    "df = df.sample(frac=1).reset_index(drop=True) # shuffle data\n",
    "display(df)\n",
    "display(df.isnull().sum()) # check for nan values"
   ]
  },
  {
   "cell_type": "code",
   "execution_count": 648,
   "metadata": {},
   "outputs": [],
   "source": [
    "X = df.loc[:,df.columns != \"Y house price of unit area\"]\n",
    "y= df.loc[:,\"Y house price of unit area\"]"
   ]
  },
  {
   "cell_type": "code",
   "execution_count": 649,
   "metadata": {},
   "outputs": [
    {
     "data": {
      "text/html": [
       "<div>\n",
       "<style scoped>\n",
       "    .dataframe tbody tr th:only-of-type {\n",
       "        vertical-align: middle;\n",
       "    }\n",
       "\n",
       "    .dataframe tbody tr th {\n",
       "        vertical-align: top;\n",
       "    }\n",
       "\n",
       "    .dataframe thead th {\n",
       "        text-align: right;\n",
       "    }\n",
       "</style>\n",
       "<table border=\"1\" class=\"dataframe\">\n",
       "  <thead>\n",
       "    <tr style=\"text-align: right;\">\n",
       "      <th></th>\n",
       "      <th>One</th>\n",
       "      <th>No</th>\n",
       "      <th>X1 transaction date</th>\n",
       "      <th>X2 house age</th>\n",
       "      <th>X3 distance to the nearest MRT station</th>\n",
       "      <th>X4 number of convenience stores</th>\n",
       "      <th>X5 latitude</th>\n",
       "      <th>X6 longitude</th>\n",
       "    </tr>\n",
       "  </thead>\n",
       "  <tbody>\n",
       "    <tr>\n",
       "      <th>0</th>\n",
       "      <td>1</td>\n",
       "      <td>0.112824</td>\n",
       "      <td>0.652661</td>\n",
       "      <td>1.710552</td>\n",
       "      <td>-0.711012</td>\n",
       "      <td>1.665488</td>\n",
       "      <td>0.644625</td>\n",
       "      <td>0.605252</td>\n",
       "    </tr>\n",
       "    <tr>\n",
       "      <th>1</th>\n",
       "      <td>1</td>\n",
       "      <td>0.238183</td>\n",
       "      <td>-1.414955</td>\n",
       "      <td>-0.422433</td>\n",
       "      <td>-0.660208</td>\n",
       "      <td>0.986500</td>\n",
       "      <td>-0.239325</td>\n",
       "      <td>0.626103</td>\n",
       "    </tr>\n",
       "    <tr>\n",
       "      <th>2</th>\n",
       "      <td>1</td>\n",
       "      <td>1.274489</td>\n",
       "      <td>1.244928</td>\n",
       "      <td>-1.063206</td>\n",
       "      <td>1.049915</td>\n",
       "      <td>-1.389957</td>\n",
       "      <td>-1.126499</td>\n",
       "      <td>1.712296</td>\n",
       "    </tr>\n",
       "    <tr>\n",
       "      <th>3</th>\n",
       "      <td>1</td>\n",
       "      <td>-0.104466</td>\n",
       "      <td>1.244928</td>\n",
       "      <td>-0.220545</td>\n",
       "      <td>2.129775</td>\n",
       "      <td>-1.389957</td>\n",
       "      <td>-2.852499</td>\n",
       "      <td>-1.419224</td>\n",
       "    </tr>\n",
       "    <tr>\n",
       "      <th>4</th>\n",
       "      <td>1</td>\n",
       "      <td>-1.391492</td>\n",
       "      <td>-0.528327</td>\n",
       "      <td>-0.360989</td>\n",
       "      <td>2.375490</td>\n",
       "      <td>-1.389957</td>\n",
       "      <td>-2.214314</td>\n",
       "      <td>-1.925506</td>\n",
       "    </tr>\n",
       "    <tr>\n",
       "      <th>...</th>\n",
       "      <td>...</td>\n",
       "      <td>...</td>\n",
       "      <td>...</td>\n",
       "      <td>...</td>\n",
       "      <td>...</td>\n",
       "      <td>...</td>\n",
       "      <td>...</td>\n",
       "      <td>...</td>\n",
       "    </tr>\n",
       "    <tr>\n",
       "      <th>409</th>\n",
       "      <td>1</td>\n",
       "      <td>-0.338471</td>\n",
       "      <td>0.950568</td>\n",
       "      <td>-1.554758</td>\n",
       "      <td>-0.626640</td>\n",
       "      <td>0.647006</td>\n",
       "      <td>0.677663</td>\n",
       "      <td>0.731008</td>\n",
       "    </tr>\n",
       "    <tr>\n",
       "      <th>410</th>\n",
       "      <td>1</td>\n",
       "      <td>-0.689478</td>\n",
       "      <td>-0.822688</td>\n",
       "      <td>-0.685764</td>\n",
       "      <td>-0.637594</td>\n",
       "      <td>0.986500</td>\n",
       "      <td>0.503612</td>\n",
       "      <td>0.785090</td>\n",
       "    </tr>\n",
       "    <tr>\n",
       "      <th>411</th>\n",
       "      <td>1</td>\n",
       "      <td>-0.296684</td>\n",
       "      <td>-0.233967</td>\n",
       "      <td>-1.238761</td>\n",
       "      <td>-0.554645</td>\n",
       "      <td>0.307513</td>\n",
       "      <td>0.952437</td>\n",
       "      <td>0.687352</td>\n",
       "    </tr>\n",
       "    <tr>\n",
       "      <th>412</th>\n",
       "      <td>1</td>\n",
       "      <td>-0.079394</td>\n",
       "      <td>0.358300</td>\n",
       "      <td>1.464776</td>\n",
       "      <td>-0.758379</td>\n",
       "      <td>1.325994</td>\n",
       "      <td>-0.017733</td>\n",
       "      <td>0.490573</td>\n",
       "    </tr>\n",
       "    <tr>\n",
       "      <th>413</th>\n",
       "      <td>1</td>\n",
       "      <td>-1.040485</td>\n",
       "      <td>-0.233967</td>\n",
       "      <td>-0.396100</td>\n",
       "      <td>-0.739200</td>\n",
       "      <td>0.986500</td>\n",
       "      <td>-0.143436</td>\n",
       "      <td>0.596781</td>\n",
       "    </tr>\n",
       "  </tbody>\n",
       "</table>\n",
       "<p>414 rows × 8 columns</p>\n",
       "</div>"
      ],
      "text/plain": [
       "     One        No  X1 transaction date  X2 house age  \\\n",
       "0      1  0.112824             0.652661      1.710552   \n",
       "1      1  0.238183            -1.414955     -0.422433   \n",
       "2      1  1.274489             1.244928     -1.063206   \n",
       "3      1 -0.104466             1.244928     -0.220545   \n",
       "4      1 -1.391492            -0.528327     -0.360989   \n",
       "..   ...       ...                  ...           ...   \n",
       "409    1 -0.338471             0.950568     -1.554758   \n",
       "410    1 -0.689478            -0.822688     -0.685764   \n",
       "411    1 -0.296684            -0.233967     -1.238761   \n",
       "412    1 -0.079394             0.358300      1.464776   \n",
       "413    1 -1.040485            -0.233967     -0.396100   \n",
       "\n",
       "     X3 distance to the nearest MRT station  X4 number of convenience stores  \\\n",
       "0                                 -0.711012                         1.665488   \n",
       "1                                 -0.660208                         0.986500   \n",
       "2                                  1.049915                        -1.389957   \n",
       "3                                  2.129775                        -1.389957   \n",
       "4                                  2.375490                        -1.389957   \n",
       "..                                      ...                              ...   \n",
       "409                               -0.626640                         0.647006   \n",
       "410                               -0.637594                         0.986500   \n",
       "411                               -0.554645                         0.307513   \n",
       "412                               -0.758379                         1.325994   \n",
       "413                               -0.739200                         0.986500   \n",
       "\n",
       "     X5 latitude  X6 longitude  \n",
       "0       0.644625      0.605252  \n",
       "1      -0.239325      0.626103  \n",
       "2      -1.126499      1.712296  \n",
       "3      -2.852499     -1.419224  \n",
       "4      -2.214314     -1.925506  \n",
       "..           ...           ...  \n",
       "409     0.677663      0.731008  \n",
       "410     0.503612      0.785090  \n",
       "411     0.952437      0.687352  \n",
       "412    -0.017733      0.490573  \n",
       "413    -0.143436      0.596781  \n",
       "\n",
       "[414 rows x 8 columns]"
      ]
     },
     "metadata": {},
     "output_type": "display_data"
    }
   ],
   "source": [
    "X_train = normalize(X, X.mean(axis=0),X.std(axis=0))\n",
    "X_train.insert(0, 'One', 1)\n",
    "display(X_train)"
   ]
  },
  {
   "cell_type": "code",
   "execution_count": 650,
   "metadata": {},
   "outputs": [
    {
     "data": {
      "image/png": "[encoded data removed]",
      "text/plain": [
       "<Figure size 432x288 with 1 Axes>"
      ]
     },
     "metadata": {
      "needs_background": "light"
     },
     "output_type": "display_data"
    }
   ],
   "source": [
    "theta = linear_reg(X_train.values, y.values, 0.05, 200)"
   ]
  },
  {
   "cell_type": "code",
   "execution_count": 651,
   "metadata": {},
   "outputs": [
    {
     "name": "stdout",
     "output_type": "stream",
     "text": [
      "6.114142612593052\n"
     ]
    }
   ],
   "source": [
    "pred = predict(X_train.values, theta)\n",
    "print(mean_absolute_error(pred,y))"
   ]
  },
  {
   "cell_type": "code",
   "execution_count": 652,
   "metadata": {},
   "outputs": [
    {
     "name": "stdout",
     "output_type": "stream",
     "text": [
      "6.0962239376079435\n"
     ]
    }
   ],
   "source": [
    "model = LinearRegression()\n",
    "model.fit(X_train, y)\n",
    "y_pred = model.predict(X_train)\n",
    "print(mean_absolute_error(y_pred,y))"
   ]
  }
 ],
 "metadata": {
  "kernelspec": {
   "display_name": "Python 3",
   "language": "python",
   "name": "python3"
  },
  "language_info": {
   "codemirror_mode": {
    "name": "ipython",
    "version": 3
   },
   "file_extension": ".py",
   "mimetype": "text/x-python",
   "name": "python",
   "nbconvert_exporter": "python",
   "pygments_lexer": "ipython3",
   "version": "3.8.2"
  }
 },
 "nbformat": 4,
 "nbformat_minor": 4
}
