{
 "cells": [
  {
   "cell_type": "code",
   "execution_count": 181,
   "metadata": {},
   "outputs": [],
   "source": [
    "import numpy as np\n",
    "import matplotlib.pyplot as plt\n",
    "import pandas as pd"
   ]
  },
  {
   "cell_type": "markdown",
   "metadata": {},
   "source": [
    "<h2> Activation function for all nodes uses the following sigmoid function </h2>\n",
    "<h1> $$ \\frac{1}{(1 + e^{-\\theta^\\intercal X})} $$ </h1>"
   ]
  },
  {
   "cell_type": "code",
   "execution_count": 182,
   "metadata": {},
   "outputs": [],
   "source": [
    "def sigmoid(layer_input):\n",
    "    return 1 / (1 + np.exp(-(layer_input)))"
   ]
  },
  {
   "cell_type": "code",
   "execution_count": 183,
   "metadata": {},
   "outputs": [],
   "source": [
    "def add_ones_row(layer_output):\n",
    "    if (layer_output.ndim == 1):\n",
    "        layer_output = layer_output.reshape(1,len(layer_output)) # single dimension will lead to error\n",
    "    ones = np.ones((1,layer_output.shape[1]), dtype = float) # adding in 1s for bias weight\n",
    "    layer_output = np.append(ones, layer_output, axis=0)\n",
    "    return layer_output"
   ]
  },
  {
   "cell_type": "code",
   "execution_count": 263,
   "metadata": {},
   "outputs": [],
   "source": [
    "def forward_propagation(weights, X):\n",
    "    n = len(weights) # number of layers - 1, also number of iterations for foward propagation\n",
    "    layer_outputs = []\n",
    "    layer_output = X.transpose() # makes a copy as we need to add 1 to it to form first layer output\n",
    "    for i in range(n):\n",
    "        layer_output = add_ones_row(layer_output) # adding column of 1 so bias term for each layer is included\n",
    "        layer_outputs.append(layer_output) # important to include the 1 in as it is used for calculation in back propagation\n",
    "        layer_weight = weights[i]\n",
    "        layer_input = np.matmul(layer_weight, layer_output) # calculating z, input to next layer\n",
    "        layer_output = sigmoid(layer_input) # calculating z, output of next layer\n",
    "    layer_outputs.append(layer_output)    \n",
    "    return layer_outputs"
   ]
  },
  {
   "cell_type": "code",
   "execution_count": 312,
   "metadata": {},
   "outputs": [],
   "source": [
    "def calculate_cost(final_output, weights, y, lbd):\n",
    "    m = len(y)\n",
    "    sum_squared_weights = sum(list(map(lambda x: (x**2).sum(),weights))) # sum of squared weights\n",
    "    regularization_cost = (lbd/(2*m))*(sum_squared_weights)\n",
    "    cost = (1/m)*(-y*np.log(final_output)-(1-y)*np.log(1-final_output)).sum() + regularization_cost\n",
    "    return cost"
   ]
  },
  {
   "cell_type": "code",
   "execution_count": 287,
   "metadata": {},
   "outputs": [],
   "source": [
    "def back_propagation(weights, layer_outputs, y):\n",
    "    n = len(weights) # number of layers - 1, also number of iterations for foward propagation\n",
    "    gradients = []\n",
    "    layer_error = None;\n",
    "    for i in range(n,0,-1): # from n to 1 inclusive\n",
    "        \n",
    "        if (i == n):\n",
    "            layer_error = layer_outputs[i] - y # final layer output - y\n",
    "        else:    \n",
    "            layer_error = np.matmul(weights[i].transpose(),layer_error)*layer_outputs[i]*(1-layer_outputs[i]) # vectorized implementation for layer error calculation\n",
    "            layer_error =  np.delete(layer_error, (0), axis=0) # remove first row which correspond to bias node\n",
    "        if (layer_error.ndim == 1):\n",
    "            layer_error = layer_error.reshape(1,len(layer_error)) # reshape from 1d to 2d so no error occurs\n",
    "        grad = np.matmul(layer_error,layer_outputs[i-1].transpose())\n",
    "        gradients.insert(0,grad)\n",
    "    return np.array(gradients)    \n",
    "        "
   ]
  },
  {
   "cell_type": "code",
   "execution_count": 313,
   "metadata": {},
   "outputs": [],
   "source": [
    "def neural_network(X, y, network_structure, iterations, lbd):\n",
    "    weights=[]\n",
    "    train_costs = []\n",
    "    m = X.shape[0]\n",
    "    \n",
    "    for i in range(len(network_structure)-1): # intializing weights\n",
    "        layer_weights = np.random.rand(network_structure[i+1],network_structure[i]+1) # +1 for bias\n",
    "        weights.append(layer_weights)\n",
    "    for i in range(iterations):\n",
    "        layer_outputs = forward_propagation(weights, X) # forward propagation to calculate output of nodes at each layer\n",
    "        iter_cost = calculate_cost(layer_outputs[-1], weights, y, lbd)\n",
    "        train_costs.append(iter_cost)\n",
    "        print(iter_cost)\n",
    "        gradients = back_propagation(weights, layer_outputs, y) # back progagation to calculate gradient of nodes at each layer\n",
    "#         weights -= (1/m)*(gradients) + (lbd/(m)*weights)\n",
    "        for i in range(len(weights)):\n",
    "            weights[i] -= (1/m)*(gradients[i]) + (lbd/m)*(weights[i])\n",
    "    x_graph = np.arange(0,iterations,1);    \n",
    "    plt.plot(x_graph,train_costs, label='train') \n",
    "    plt.legend()\n",
    "    return weights"
   ]
  },
  {
   "cell_type": "code",
   "execution_count": 267,
   "metadata": {},
   "outputs": [],
   "source": [
    "def normalize(X, mean, std):\n",
    "    return (X-mean) / std"
   ]
  },
  {
   "cell_type": "code",
   "execution_count": 327,
   "metadata": {},
   "outputs": [],
   "source": [
    "def prediction(X, weights, threshold):\n",
    "    layer_outputs = forward_propagation(weights, X)\n",
    "    pred_result = layer_outputs[-1]\n",
    "    pred_result = (pred_result>=threshold).astype(int) # those above threshold = 1, 0 otherwise\n",
    "    return pred_result"
   ]
  },
  {
   "cell_type": "code",
   "execution_count": 271,
   "metadata": {},
   "outputs": [
    {
     "name": "stdout",
     "output_type": "stream",
     "text": [
      "Pregnancies                 0\n",
      "Glucose                     0\n",
      "BloodPressure               0\n",
      "SkinThickness               0\n",
      "Insulin                     0\n",
      "BMI                         0\n",
      "DiabetesPedigreeFunction    0\n",
      "Age                         0\n",
      "Outcome                     0\n",
      "dtype: int64\n",
      "268\n",
      "500\n"
     ]
    }
   ],
   "source": [
    "df = pd.read_csv(\"data/logistic_diabetes.csv\")\n",
    "print(df.isnull().sum())\n",
    "print(len(df[df['Outcome']==1]))\n",
    "print(len(df[df['Outcome']==0])) # making sure data is balanced, a bit of imbalance but should be okay\n",
    "train=df.sample(frac=0.75,random_state=150) #random state is a seed value\n",
    "test=df.drop(train.index)\n",
    "\n",
    "train_x = train.loc[:,train.columns != \"Outcome\"] # splitting dependent and independent variables\n",
    "test_x = test.loc[:,test.columns != \"Outcome\"]\n",
    "train_y = train['Outcome'].values\n",
    "test_y = test['Outcome'].values\n",
    "\n",
    "train_mean = train_x.mean(axis=0) # mean normalization\n",
    "train_std = train_x.std(axis=0)\n",
    "train_x = normalize(train_x,train_mean ,train_std)\n",
    "test_x = normalize(test_x,train_mean ,train_std )"
   ]
  },
  {
   "cell_type": "code",
   "execution_count": 342,
   "metadata": {},
   "outputs": [
    {
     "name": "stdout",
     "output_type": "stream",
     "text": [
      "1.562458136724058\n",
      "0.7237623764695756\n",
      "0.6570222267004464\n",
      "0.6564650296514091\n",
      "0.6561667592350969\n",
      "0.6558747797312016\n",
      "0.6555857822154733\n",
      "0.6552995769999262\n",
      "0.6550160205575769\n",
      "0.6547349732812661\n",
      "0.6544562987135004\n",
      "0.6541798633491513\n",
      "0.6539055364532903\n",
      "0.6536331898867305\n",
      "0.6533626979387603\n",
      "0.6530939371666158\n",
      "0.652826786241261\n",
      "0.6525611257990823\n",
      "0.652296838299118\n",
      "0.6520338078854744\n",
      "0.6517719202546048\n",
      "0.6515110625271426\n",
      "0.6512511231240037\n",
      "0.6509919916464922\n",
      "0.6507335587601615\n",
      "0.6504757160821951\n",
      "0.650218356072096\n",
      "0.6499613719254783\n",
      "0.6497046574707788\n",
      "0.649448107068712\n",
      "0.6491916155143117\n",
      "0.6489350779414088\n",
      "0.6486783897294139\n",
      "0.6484214464122801\n",
      "0.6481641435895317\n",
      "0.6479063768392661\n",
      "0.6476480416330312\n",
      "0.6473890332525066\n",
      "0.6471292467079193\n",
      "0.6468685766581349\n",
      "0.6466069173323852\n",
      "0.6463441624535898\n",
      "0.6460802051632525\n",
      "0.6458149379479192\n",
      "0.6455482525671926\n",
      "0.6452800399833165\n",
      "0.6450101902923482\n",
      "0.6447385926569521\n",
      "0.6444651352408605\n",
      "0.6441897051450561\n",
      "0.6439121883457484\n",
      "0.643632469634223\n",
      "0.6433504325586645\n",
      "0.6430659593680563\n",
      "0.6427789309582875\n",
      "0.6424892268205981\n",
      "0.6421967249925212\n",
      "0.6419013020114863\n",
      "0.6416028328712687\n",
      "0.6413011909814854\n",
      "0.6409962481303504\n",
      "0.6406878744509252\n",
      "0.640375938391112\n",
      "0.6400603066876542\n",
      "0.6397408443444311\n",
      "0.6394174146153427\n",
      "0.6390898789921079\n",
      "0.6387580971973044\n",
      "0.6384219271830073\n",
      "0.6380812251353909\n",
      "0.6377358454856797\n",
      "0.637385640927846\n",
      "0.6370304624434691\n",
      "0.6366701593341831\n",
      "0.6363045792621522\n",
      "0.6359335682990226\n",
      "0.6355569709838116\n",
      "0.6351746303901991\n",
      "0.634786388203691\n",
      "0.6343920848091307\n",
      "0.6339915593890272\n",
      "0.6335846500331704\n",
      "0.633171193859996\n",
      "0.632751027150146\n",
      "0.632323985492665\n",
      "0.631889903944244\n",
      "0.6314486172019013\n",
      "0.6309999597894638\n",
      "0.6305437662581728\n",
      "0.6300798714016967\n",
      "0.6296081104857901\n",
      "0.6291283194927794\n",
      "0.6286403353810016\n",
      "0.6281439963592492\n",
      "0.627639142176208\n",
      "0.6271256144247848\n",
      "0.6266032568611482\n",
      "0.6260719157381959\n",
      "0.6255314401530775\n",
      "0.6249816824082808\n"
     ]
    },
    {
     "data": {
      "image/png": "[encoded data removed]",
      "text/plain": [
       "<Figure size 432x288 with 1 Axes>"
      ]
     },
     "metadata": {
      "needs_background": "light"
     },
     "output_type": "display_data"
    }
   ],
   "source": [
    "weights = neural_network(train_x, train_y, [train_x.shape[1],4,4,1], 100, 0.1)"
   ]
  },
  {
   "cell_type": "code",
   "execution_count": 344,
   "metadata": {},
   "outputs": [
    {
     "name": "stdout",
     "output_type": "stream",
     "text": [
      "0.6510416666666666\n"
     ]
    }
   ],
   "source": [
    "pred_y = prediction(train_x, weights, 0.5)\n",
    "pred_y = pred_y.flatten()\n",
    "result = pred_y == train_y\n",
    "print(sum(result) / len(result))"
   ]
  }
 ],
 "metadata": {
  "kernelspec": {
   "display_name": "Python 3",
   "language": "python",
   "name": "python3"
  },
  "language_info": {
   "codemirror_mode": {
    "name": "ipython",
    "version": 3
   },
   "file_extension": ".py",
   "mimetype": "text/x-python",
   "name": "python",
   "nbconvert_exporter": "python",
   "pygments_lexer": "ipython3",
   "version": "3.8.2"
  }
 },
 "nbformat": 4,
 "nbformat_minor": 4
}
